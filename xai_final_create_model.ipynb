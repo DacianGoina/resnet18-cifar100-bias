{
  "nbformat": 4,
  "nbformat_minor": 0,
  "metadata": {
    "colab": {
      "provenance": []
    },
    "kernelspec": {
      "name": "python3",
      "display_name": "Python 3"
    },
    "language_info": {
      "name": "python"
    }
  },
  "cells": [
    {
      "cell_type": "code",
      "execution_count": null,
      "metadata": {
        "id": "mS0fjIzspC-z"
      },
      "outputs": [],
      "source": [
        "import torch\n",
        "import torchvision\n",
        "import torchvision.transforms as transforms\n",
        "from torch.utils.data import random_split, DataLoader\n",
        "\n",
        "# Set the seed for reproducibility\n",
        "torch.manual_seed(42)\n",
        "\n",
        "# Define transforms for CIFAR-100\n",
        "transform = transforms.Compose([\n",
        "    transforms.Resize((224, 224)),  # Rescale for ResNet\n",
        "    transforms.ToTensor(),\n",
        "    transforms.Normalize((0.5, 0.5, 0.5), (0.5, 0.5, 0.5)),  # Normalize to [-1, 1]\n",
        "])\n",
        "\n",
        "# Load CIFAR-100 dataset\n",
        "dataset = torchvision.datasets.CIFAR100(root='./data', train=True, download=True, transform=transform)\n",
        "testset = torchvision.datasets.CIFAR100(root='./data', train=False, download=True, transform=transform)\n",
        "\n",
        "train_size = int(0.8 * len(dataset))\n",
        "val_size = len(dataset) - train_size\n",
        "trainset, valset = random_split(dataset, [train_size, val_size])\n",
        "\n",
        "# DataLoaders\n",
        "batch_size = 32\n",
        "trainloader = DataLoader(trainset, batch_size=batch_size, shuffle=True, num_workers=2)\n",
        "valloader = DataLoader(valset, batch_size=batch_size, shuffle=False, num_workers=2)\n",
        "testloader = DataLoader(testset, batch_size=batch_size, shuffle=False, num_workers=2)\n"
      ]
    },
    {
      "cell_type": "code",
      "source": [
        "import torchvision.models as models\n",
        "import torch.nn as nn\n",
        "\n",
        "# Load ResNet-18\n",
        "model = models.resnet18(pretrained=True)  # Pretrained ResNet-18\n",
        "\n",
        "# Adjust final layer for CIFAR-100\n",
        "num_classes = 100\n",
        "model.fc = nn.Linear(model.fc.in_features, num_classes)\n",
        "\n",
        "# Move to GPU if available\n",
        "device = torch.device(\"cuda\" if torch.cuda.is_available() else \"cpu\")\n",
        "model = model.to(device)\n"
      ],
      "metadata": {
        "id": "3cP6N8OzpJUS"
      },
      "execution_count": null,
      "outputs": []
    },
    {
      "cell_type": "code",
      "source": [
        "import torch.optim as optim\n",
        "import torch.nn.functional as F\n",
        "\n",
        "# Define loss function and optimizer\n",
        "criterion = nn.CrossEntropyLoss()\n",
        "optimizer = optim.Adam(model.parameters(), lr=0.001)\n",
        "\n",
        "# Training loop\n",
        "epochs = 10\n",
        "for epoch in range(epochs):\n",
        "    model.train()\n",
        "    running_loss = 0.0\n",
        "\n",
        "    for inputs, labels in trainloader:\n",
        "        inputs, labels = inputs.to(device), labels.to(device)\n",
        "\n",
        "        optimizer.zero_grad()\n",
        "        outputs = model(inputs)\n",
        "        loss = criterion(outputs, labels)\n",
        "        loss.backward()\n",
        "        optimizer.step()\n",
        "\n",
        "        running_loss += loss.item()\n",
        "\n",
        "    model.eval()\n",
        "    file_name = \"resnet18_\" + str(epoch) + \".pth\"\n",
        "    torch.save(model.state_dict(), file_name)\n",
        "    print(f\"Epoch {epoch + 1}/{epochs}, Loss: {running_loss / len(trainloader):.4f}\")\n",
        "    print(\"time \", datetime.now())\n",
        "\n",
        "# Epoch 1/10, Loss: 2.4451\n",
        "# time  2024-12-10 11:01:32.098552\n",
        "# Epoch 2/10, Loss: 1.5218\n",
        "# time  2024-12-10 11:15:45.045782\n",
        "# Epoch 3/10, Loss: 1.1099\n",
        "# time  2024-12-10 11:29:36.043563\n",
        "# Epoch 4/10, Loss: 0.8012\n",
        "# time  2024-12-10 11:43:18.962063\n",
        "# Epoch 5/10, Loss: 0.5426\n",
        "# time  2024-12-10 11:56:57.819060\n",
        "# Epoch 6/10, Loss: 0.3654\n",
        "# time  2024-12-10 12:10:23.815583\n",
        "# Epoch 7/10, Loss: 0.2871\n",
        "# time  2024-12-10 12:24:07.560979\n",
        "# Epoch 8/10, Loss: 0.2257\n",
        "# time  2024-12-10 12:37:37.487396\n",
        "# Epoch 9/10, Loss: 0.1890\n",
        "# time  2024-12-10 12:50:49.602340\n",
        "# Epoch 10/10, Loss: 0.1942\n",
        "# time  2024-12-10 13:03:58.092853"
      ],
      "metadata": {
        "id": "aXDenFAipMOa"
      },
      "execution_count": null,
      "outputs": []
    }
  ]
}